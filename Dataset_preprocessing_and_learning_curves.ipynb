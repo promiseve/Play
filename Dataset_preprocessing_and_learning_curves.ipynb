{
  "nbformat": 4,
  "nbformat_minor": 0,
  "metadata": {
    "colab": {
      "provenance": []
    },
    "kernelspec": {
      "name": "python3",
      "display_name": "Python 3"
    },
    "language_info": {
      "name": "python"
    },
    "widgets": {
      "application/vnd.jupyter.widget-state+json": {
        "10f16a0903784119aeb58d1f7a1ffb47": {
          "model_module": "@jupyter-widgets/controls",
          "model_name": "HBoxModel",
          "model_module_version": "1.5.0",
          "state": {
            "_dom_classes": [],
            "_model_module": "@jupyter-widgets/controls",
            "_model_module_version": "1.5.0",
            "_model_name": "HBoxModel",
            "_view_count": null,
            "_view_module": "@jupyter-widgets/controls",
            "_view_module_version": "1.5.0",
            "_view_name": "HBoxView",
            "box_style": "",
            "children": [
              "IPY_MODEL_52b0c68d967743bfa262a64ac3c7fc30",
              "IPY_MODEL_ed75e01665cf4dc0b214c480e2006529",
              "IPY_MODEL_971d93ad6d53429ba6e2f17dd01b7939"
            ],
            "layout": "IPY_MODEL_2967a719600e4da49d3dce0c6cf5c28a"
          }
        },
        "52b0c68d967743bfa262a64ac3c7fc30": {
          "model_module": "@jupyter-widgets/controls",
          "model_name": "HTMLModel",
          "model_module_version": "1.5.0",
          "state": {
            "_dom_classes": [],
            "_model_module": "@jupyter-widgets/controls",
            "_model_module_version": "1.5.0",
            "_model_name": "HTMLModel",
            "_view_count": null,
            "_view_module": "@jupyter-widgets/controls",
            "_view_module_version": "1.5.0",
            "_view_name": "HTMLView",
            "description": "",
            "description_tooltip": null,
            "layout": "IPY_MODEL_0d3cdd619eac41d0881d31bf219c7a62",
            "placeholder": "​",
            "style": "IPY_MODEL_ca16dac8763f48cc9e93a96d45a75d0f",
            "value": "100%"
          }
        },
        "ed75e01665cf4dc0b214c480e2006529": {
          "model_module": "@jupyter-widgets/controls",
          "model_name": "FloatProgressModel",
          "model_module_version": "1.5.0",
          "state": {
            "_dom_classes": [],
            "_model_module": "@jupyter-widgets/controls",
            "_model_module_version": "1.5.0",
            "_model_name": "FloatProgressModel",
            "_view_count": null,
            "_view_module": "@jupyter-widgets/controls",
            "_view_module_version": "1.5.0",
            "_view_name": "ProgressView",
            "bar_style": "success",
            "description": "",
            "description_tooltip": null,
            "layout": "IPY_MODEL_7e34f1ef6ff944c99134571e0e75b83c",
            "max": 9912422,
            "min": 0,
            "orientation": "horizontal",
            "style": "IPY_MODEL_f61cd1e1e1af422fad1ae55943c8ac87",
            "value": 9912422
          }
        },
        "971d93ad6d53429ba6e2f17dd01b7939": {
          "model_module": "@jupyter-widgets/controls",
          "model_name": "HTMLModel",
          "model_module_version": "1.5.0",
          "state": {
            "_dom_classes": [],
            "_model_module": "@jupyter-widgets/controls",
            "_model_module_version": "1.5.0",
            "_model_name": "HTMLModel",
            "_view_count": null,
            "_view_module": "@jupyter-widgets/controls",
            "_view_module_version": "1.5.0",
            "_view_name": "HTMLView",
            "description": "",
            "description_tooltip": null,
            "layout": "IPY_MODEL_8c4af138cf0d406b8e38a988546d41c3",
            "placeholder": "​",
            "style": "IPY_MODEL_85540c8d704c4ea8bff7aa2993c95cfe",
            "value": " 9912422/9912422 [00:00&lt;00:00, 23202128.76it/s]"
          }
        },
        "2967a719600e4da49d3dce0c6cf5c28a": {
          "model_module": "@jupyter-widgets/base",
          "model_name": "LayoutModel",
          "model_module_version": "1.2.0",
          "state": {
            "_model_module": "@jupyter-widgets/base",
            "_model_module_version": "1.2.0",
            "_model_name": "LayoutModel",
            "_view_count": null,
            "_view_module": "@jupyter-widgets/base",
            "_view_module_version": "1.2.0",
            "_view_name": "LayoutView",
            "align_content": null,
            "align_items": null,
            "align_self": null,
            "border": null,
            "bottom": null,
            "display": null,
            "flex": null,
            "flex_flow": null,
            "grid_area": null,
            "grid_auto_columns": null,
            "grid_auto_flow": null,
            "grid_auto_rows": null,
            "grid_column": null,
            "grid_gap": null,
            "grid_row": null,
            "grid_template_areas": null,
            "grid_template_columns": null,
            "grid_template_rows": null,
            "height": null,
            "justify_content": null,
            "justify_items": null,
            "left": null,
            "margin": null,
            "max_height": null,
            "max_width": null,
            "min_height": null,
            "min_width": null,
            "object_fit": null,
            "object_position": null,
            "order": null,
            "overflow": null,
            "overflow_x": null,
            "overflow_y": null,
            "padding": null,
            "right": null,
            "top": null,
            "visibility": null,
            "width": null
          }
        },
        "0d3cdd619eac41d0881d31bf219c7a62": {
          "model_module": "@jupyter-widgets/base",
          "model_name": "LayoutModel",
          "model_module_version": "1.2.0",
          "state": {
            "_model_module": "@jupyter-widgets/base",
            "_model_module_version": "1.2.0",
            "_model_name": "LayoutModel",
            "_view_count": null,
            "_view_module": "@jupyter-widgets/base",
            "_view_module_version": "1.2.0",
            "_view_name": "LayoutView",
            "align_content": null,
            "align_items": null,
            "align_self": null,
            "border": null,
            "bottom": null,
            "display": null,
            "flex": null,
            "flex_flow": null,
            "grid_area": null,
            "grid_auto_columns": null,
            "grid_auto_flow": null,
            "grid_auto_rows": null,
            "grid_column": null,
            "grid_gap": null,
            "grid_row": null,
            "grid_template_areas": null,
            "grid_template_columns": null,
            "grid_template_rows": null,
            "height": null,
            "justify_content": null,
            "justify_items": null,
            "left": null,
            "margin": null,
            "max_height": null,
            "max_width": null,
            "min_height": null,
            "min_width": null,
            "object_fit": null,
            "object_position": null,
            "order": null,
            "overflow": null,
            "overflow_x": null,
            "overflow_y": null,
            "padding": null,
            "right": null,
            "top": null,
            "visibility": null,
            "width": null
          }
        },
        "ca16dac8763f48cc9e93a96d45a75d0f": {
          "model_module": "@jupyter-widgets/controls",
          "model_name": "DescriptionStyleModel",
          "model_module_version": "1.5.0",
          "state": {
            "_model_module": "@jupyter-widgets/controls",
            "_model_module_version": "1.5.0",
            "_model_name": "DescriptionStyleModel",
            "_view_count": null,
            "_view_module": "@jupyter-widgets/base",
            "_view_module_version": "1.2.0",
            "_view_name": "StyleView",
            "description_width": ""
          }
        },
        "7e34f1ef6ff944c99134571e0e75b83c": {
          "model_module": "@jupyter-widgets/base",
          "model_name": "LayoutModel",
          "model_module_version": "1.2.0",
          "state": {
            "_model_module": "@jupyter-widgets/base",
            "_model_module_version": "1.2.0",
            "_model_name": "LayoutModel",
            "_view_count": null,
            "_view_module": "@jupyter-widgets/base",
            "_view_module_version": "1.2.0",
            "_view_name": "LayoutView",
            "align_content": null,
            "align_items": null,
            "align_self": null,
            "border": null,
            "bottom": null,
            "display": null,
            "flex": null,
            "flex_flow": null,
            "grid_area": null,
            "grid_auto_columns": null,
            "grid_auto_flow": null,
            "grid_auto_rows": null,
            "grid_column": null,
            "grid_gap": null,
            "grid_row": null,
            "grid_template_areas": null,
            "grid_template_columns": null,
            "grid_template_rows": null,
            "height": null,
            "justify_content": null,
            "justify_items": null,
            "left": null,
            "margin": null,
            "max_height": null,
            "max_width": null,
            "min_height": null,
            "min_width": null,
            "object_fit": null,
            "object_position": null,
            "order": null,
            "overflow": null,
            "overflow_x": null,
            "overflow_y": null,
            "padding": null,
            "right": null,
            "top": null,
            "visibility": null,
            "width": null
          }
        },
        "f61cd1e1e1af422fad1ae55943c8ac87": {
          "model_module": "@jupyter-widgets/controls",
          "model_name": "ProgressStyleModel",
          "model_module_version": "1.5.0",
          "state": {
            "_model_module": "@jupyter-widgets/controls",
            "_model_module_version": "1.5.0",
            "_model_name": "ProgressStyleModel",
            "_view_count": null,
            "_view_module": "@jupyter-widgets/base",
            "_view_module_version": "1.2.0",
            "_view_name": "StyleView",
            "bar_color": null,
            "description_width": ""
          }
        },
        "8c4af138cf0d406b8e38a988546d41c3": {
          "model_module": "@jupyter-widgets/base",
          "model_name": "LayoutModel",
          "model_module_version": "1.2.0",
          "state": {
            "_model_module": "@jupyter-widgets/base",
            "_model_module_version": "1.2.0",
            "_model_name": "LayoutModel",
            "_view_count": null,
            "_view_module": "@jupyter-widgets/base",
            "_view_module_version": "1.2.0",
            "_view_name": "LayoutView",
            "align_content": null,
            "align_items": null,
            "align_self": null,
            "border": null,
            "bottom": null,
            "display": null,
            "flex": null,
            "flex_flow": null,
            "grid_area": null,
            "grid_auto_columns": null,
            "grid_auto_flow": null,
            "grid_auto_rows": null,
            "grid_column": null,
            "grid_gap": null,
            "grid_row": null,
            "grid_template_areas": null,
            "grid_template_columns": null,
            "grid_template_rows": null,
            "height": null,
            "justify_content": null,
            "justify_items": null,
            "left": null,
            "margin": null,
            "max_height": null,
            "max_width": null,
            "min_height": null,
            "min_width": null,
            "object_fit": null,
            "object_position": null,
            "order": null,
            "overflow": null,
            "overflow_x": null,
            "overflow_y": null,
            "padding": null,
            "right": null,
            "top": null,
            "visibility": null,
            "width": null
          }
        },
        "85540c8d704c4ea8bff7aa2993c95cfe": {
          "model_module": "@jupyter-widgets/controls",
          "model_name": "DescriptionStyleModel",
          "model_module_version": "1.5.0",
          "state": {
            "_model_module": "@jupyter-widgets/controls",
            "_model_module_version": "1.5.0",
            "_model_name": "DescriptionStyleModel",
            "_view_count": null,
            "_view_module": "@jupyter-widgets/base",
            "_view_module_version": "1.2.0",
            "_view_name": "StyleView",
            "description_width": ""
          }
        },
        "25c8ec4237c148aca29962a8161eef5a": {
          "model_module": "@jupyter-widgets/controls",
          "model_name": "HBoxModel",
          "model_module_version": "1.5.0",
          "state": {
            "_dom_classes": [],
            "_model_module": "@jupyter-widgets/controls",
            "_model_module_version": "1.5.0",
            "_model_name": "HBoxModel",
            "_view_count": null,
            "_view_module": "@jupyter-widgets/controls",
            "_view_module_version": "1.5.0",
            "_view_name": "HBoxView",
            "box_style": "",
            "children": [
              "IPY_MODEL_a0594ce0a08e4e65abd9133f041b0a59",
              "IPY_MODEL_24cb732471294fd1af975b0cd198b8e8",
              "IPY_MODEL_ca6e03ea25144391b4e173721c9702a7"
            ],
            "layout": "IPY_MODEL_a620f3fbb995442eaaba0c75f0c62588"
          }
        },
        "a0594ce0a08e4e65abd9133f041b0a59": {
          "model_module": "@jupyter-widgets/controls",
          "model_name": "HTMLModel",
          "model_module_version": "1.5.0",
          "state": {
            "_dom_classes": [],
            "_model_module": "@jupyter-widgets/controls",
            "_model_module_version": "1.5.0",
            "_model_name": "HTMLModel",
            "_view_count": null,
            "_view_module": "@jupyter-widgets/controls",
            "_view_module_version": "1.5.0",
            "_view_name": "HTMLView",
            "description": "",
            "description_tooltip": null,
            "layout": "IPY_MODEL_db6aa08c16ed4707b619c18e36b709ab",
            "placeholder": "​",
            "style": "IPY_MODEL_9fc10ae80da24a3eafb89bc6afdc7218",
            "value": "100%"
          }
        },
        "24cb732471294fd1af975b0cd198b8e8": {
          "model_module": "@jupyter-widgets/controls",
          "model_name": "FloatProgressModel",
          "model_module_version": "1.5.0",
          "state": {
            "_dom_classes": [],
            "_model_module": "@jupyter-widgets/controls",
            "_model_module_version": "1.5.0",
            "_model_name": "FloatProgressModel",
            "_view_count": null,
            "_view_module": "@jupyter-widgets/controls",
            "_view_module_version": "1.5.0",
            "_view_name": "ProgressView",
            "bar_style": "success",
            "description": "",
            "description_tooltip": null,
            "layout": "IPY_MODEL_fd0c6c024b944deeb34e02c289d6ede9",
            "max": 28881,
            "min": 0,
            "orientation": "horizontal",
            "style": "IPY_MODEL_a0ea5001dd324fa5916e4b99fbce5fda",
            "value": 28881
          }
        },
        "ca6e03ea25144391b4e173721c9702a7": {
          "model_module": "@jupyter-widgets/controls",
          "model_name": "HTMLModel",
          "model_module_version": "1.5.0",
          "state": {
            "_dom_classes": [],
            "_model_module": "@jupyter-widgets/controls",
            "_model_module_version": "1.5.0",
            "_model_name": "HTMLModel",
            "_view_count": null,
            "_view_module": "@jupyter-widgets/controls",
            "_view_module_version": "1.5.0",
            "_view_name": "HTMLView",
            "description": "",
            "description_tooltip": null,
            "layout": "IPY_MODEL_ce66dd04b6d54dd8890f31f735745e76",
            "placeholder": "​",
            "style": "IPY_MODEL_8bcd6cacd65643529d2bac509e582d49",
            "value": " 28881/28881 [00:00&lt;00:00, 1234176.87it/s]"
          }
        },
        "a620f3fbb995442eaaba0c75f0c62588": {
          "model_module": "@jupyter-widgets/base",
          "model_name": "LayoutModel",
          "model_module_version": "1.2.0",
          "state": {
            "_model_module": "@jupyter-widgets/base",
            "_model_module_version": "1.2.0",
            "_model_name": "LayoutModel",
            "_view_count": null,
            "_view_module": "@jupyter-widgets/base",
            "_view_module_version": "1.2.0",
            "_view_name": "LayoutView",
            "align_content": null,
            "align_items": null,
            "align_self": null,
            "border": null,
            "bottom": null,
            "display": null,
            "flex": null,
            "flex_flow": null,
            "grid_area": null,
            "grid_auto_columns": null,
            "grid_auto_flow": null,
            "grid_auto_rows": null,
            "grid_column": null,
            "grid_gap": null,
            "grid_row": null,
            "grid_template_areas": null,
            "grid_template_columns": null,
            "grid_template_rows": null,
            "height": null,
            "justify_content": null,
            "justify_items": null,
            "left": null,
            "margin": null,
            "max_height": null,
            "max_width": null,
            "min_height": null,
            "min_width": null,
            "object_fit": null,
            "object_position": null,
            "order": null,
            "overflow": null,
            "overflow_x": null,
            "overflow_y": null,
            "padding": null,
            "right": null,
            "top": null,
            "visibility": null,
            "width": null
          }
        },
        "db6aa08c16ed4707b619c18e36b709ab": {
          "model_module": "@jupyter-widgets/base",
          "model_name": "LayoutModel",
          "model_module_version": "1.2.0",
          "state": {
            "_model_module": "@jupyter-widgets/base",
            "_model_module_version": "1.2.0",
            "_model_name": "LayoutModel",
            "_view_count": null,
            "_view_module": "@jupyter-widgets/base",
            "_view_module_version": "1.2.0",
            "_view_name": "LayoutView",
            "align_content": null,
            "align_items": null,
            "align_self": null,
            "border": null,
            "bottom": null,
            "display": null,
            "flex": null,
            "flex_flow": null,
            "grid_area": null,
            "grid_auto_columns": null,
            "grid_auto_flow": null,
            "grid_auto_rows": null,
            "grid_column": null,
            "grid_gap": null,
            "grid_row": null,
            "grid_template_areas": null,
            "grid_template_columns": null,
            "grid_template_rows": null,
            "height": null,
            "justify_content": null,
            "justify_items": null,
            "left": null,
            "margin": null,
            "max_height": null,
            "max_width": null,
            "min_height": null,
            "min_width": null,
            "object_fit": null,
            "object_position": null,
            "order": null,
            "overflow": null,
            "overflow_x": null,
            "overflow_y": null,
            "padding": null,
            "right": null,
            "top": null,
            "visibility": null,
            "width": null
          }
        },
        "9fc10ae80da24a3eafb89bc6afdc7218": {
          "model_module": "@jupyter-widgets/controls",
          "model_name": "DescriptionStyleModel",
          "model_module_version": "1.5.0",
          "state": {
            "_model_module": "@jupyter-widgets/controls",
            "_model_module_version": "1.5.0",
            "_model_name": "DescriptionStyleModel",
            "_view_count": null,
            "_view_module": "@jupyter-widgets/base",
            "_view_module_version": "1.2.0",
            "_view_name": "StyleView",
            "description_width": ""
          }
        },
        "fd0c6c024b944deeb34e02c289d6ede9": {
          "model_module": "@jupyter-widgets/base",
          "model_name": "LayoutModel",
          "model_module_version": "1.2.0",
          "state": {
            "_model_module": "@jupyter-widgets/base",
            "_model_module_version": "1.2.0",
            "_model_name": "LayoutModel",
            "_view_count": null,
            "_view_module": "@jupyter-widgets/base",
            "_view_module_version": "1.2.0",
            "_view_name": "LayoutView",
            "align_content": null,
            "align_items": null,
            "align_self": null,
            "border": null,
            "bottom": null,
            "display": null,
            "flex": null,
            "flex_flow": null,
            "grid_area": null,
            "grid_auto_columns": null,
            "grid_auto_flow": null,
            "grid_auto_rows": null,
            "grid_column": null,
            "grid_gap": null,
            "grid_row": null,
            "grid_template_areas": null,
            "grid_template_columns": null,
            "grid_template_rows": null,
            "height": null,
            "justify_content": null,
            "justify_items": null,
            "left": null,
            "margin": null,
            "max_height": null,
            "max_width": null,
            "min_height": null,
            "min_width": null,
            "object_fit": null,
            "object_position": null,
            "order": null,
            "overflow": null,
            "overflow_x": null,
            "overflow_y": null,
            "padding": null,
            "right": null,
            "top": null,
            "visibility": null,
            "width": null
          }
        },
        "a0ea5001dd324fa5916e4b99fbce5fda": {
          "model_module": "@jupyter-widgets/controls",
          "model_name": "ProgressStyleModel",
          "model_module_version": "1.5.0",
          "state": {
            "_model_module": "@jupyter-widgets/controls",
            "_model_module_version": "1.5.0",
            "_model_name": "ProgressStyleModel",
            "_view_count": null,
            "_view_module": "@jupyter-widgets/base",
            "_view_module_version": "1.2.0",
            "_view_name": "StyleView",
            "bar_color": null,
            "description_width": ""
          }
        },
        "ce66dd04b6d54dd8890f31f735745e76": {
          "model_module": "@jupyter-widgets/base",
          "model_name": "LayoutModel",
          "model_module_version": "1.2.0",
          "state": {
            "_model_module": "@jupyter-widgets/base",
            "_model_module_version": "1.2.0",
            "_model_name": "LayoutModel",
            "_view_count": null,
            "_view_module": "@jupyter-widgets/base",
            "_view_module_version": "1.2.0",
            "_view_name": "LayoutView",
            "align_content": null,
            "align_items": null,
            "align_self": null,
            "border": null,
            "bottom": null,
            "display": null,
            "flex": null,
            "flex_flow": null,
            "grid_area": null,
            "grid_auto_columns": null,
            "grid_auto_flow": null,
            "grid_auto_rows": null,
            "grid_column": null,
            "grid_gap": null,
            "grid_row": null,
            "grid_template_areas": null,
            "grid_template_columns": null,
            "grid_template_rows": null,
            "height": null,
            "justify_content": null,
            "justify_items": null,
            "left": null,
            "margin": null,
            "max_height": null,
            "max_width": null,
            "min_height": null,
            "min_width": null,
            "object_fit": null,
            "object_position": null,
            "order": null,
            "overflow": null,
            "overflow_x": null,
            "overflow_y": null,
            "padding": null,
            "right": null,
            "top": null,
            "visibility": null,
            "width": null
          }
        },
        "8bcd6cacd65643529d2bac509e582d49": {
          "model_module": "@jupyter-widgets/controls",
          "model_name": "DescriptionStyleModel",
          "model_module_version": "1.5.0",
          "state": {
            "_model_module": "@jupyter-widgets/controls",
            "_model_module_version": "1.5.0",
            "_model_name": "DescriptionStyleModel",
            "_view_count": null,
            "_view_module": "@jupyter-widgets/base",
            "_view_module_version": "1.2.0",
            "_view_name": "StyleView",
            "description_width": ""
          }
        },
        "bc5cab010699450e8d14588098f1245f": {
          "model_module": "@jupyter-widgets/controls",
          "model_name": "HBoxModel",
          "model_module_version": "1.5.0",
          "state": {
            "_dom_classes": [],
            "_model_module": "@jupyter-widgets/controls",
            "_model_module_version": "1.5.0",
            "_model_name": "HBoxModel",
            "_view_count": null,
            "_view_module": "@jupyter-widgets/controls",
            "_view_module_version": "1.5.0",
            "_view_name": "HBoxView",
            "box_style": "",
            "children": [
              "IPY_MODEL_bd0ff8d0d9c745068a144ee5f6831e6c",
              "IPY_MODEL_0fcc28330d2841899ba6018350e5450c",
              "IPY_MODEL_9205fe87eaa345f68ff626c66ec9d647"
            ],
            "layout": "IPY_MODEL_8a35150697e246d1907b9260d62b81ac"
          }
        },
        "bd0ff8d0d9c745068a144ee5f6831e6c": {
          "model_module": "@jupyter-widgets/controls",
          "model_name": "HTMLModel",
          "model_module_version": "1.5.0",
          "state": {
            "_dom_classes": [],
            "_model_module": "@jupyter-widgets/controls",
            "_model_module_version": "1.5.0",
            "_model_name": "HTMLModel",
            "_view_count": null,
            "_view_module": "@jupyter-widgets/controls",
            "_view_module_version": "1.5.0",
            "_view_name": "HTMLView",
            "description": "",
            "description_tooltip": null,
            "layout": "IPY_MODEL_78eba5c210c642a5ae54f1c6a814de94",
            "placeholder": "​",
            "style": "IPY_MODEL_aeb817a0380640cdb47c3e9f0cd2f5a7",
            "value": "100%"
          }
        },
        "0fcc28330d2841899ba6018350e5450c": {
          "model_module": "@jupyter-widgets/controls",
          "model_name": "FloatProgressModel",
          "model_module_version": "1.5.0",
          "state": {
            "_dom_classes": [],
            "_model_module": "@jupyter-widgets/controls",
            "_model_module_version": "1.5.0",
            "_model_name": "FloatProgressModel",
            "_view_count": null,
            "_view_module": "@jupyter-widgets/controls",
            "_view_module_version": "1.5.0",
            "_view_name": "ProgressView",
            "bar_style": "success",
            "description": "",
            "description_tooltip": null,
            "layout": "IPY_MODEL_ea7762be9da148ffa67d7201ad5d76df",
            "max": 1648877,
            "min": 0,
            "orientation": "horizontal",
            "style": "IPY_MODEL_8dba6cb168524d70a31e246d3bf6198d",
            "value": 1648877
          }
        },
        "9205fe87eaa345f68ff626c66ec9d647": {
          "model_module": "@jupyter-widgets/controls",
          "model_name": "HTMLModel",
          "model_module_version": "1.5.0",
          "state": {
            "_dom_classes": [],
            "_model_module": "@jupyter-widgets/controls",
            "_model_module_version": "1.5.0",
            "_model_name": "HTMLModel",
            "_view_count": null,
            "_view_module": "@jupyter-widgets/controls",
            "_view_module_version": "1.5.0",
            "_view_name": "HTMLView",
            "description": "",
            "description_tooltip": null,
            "layout": "IPY_MODEL_541c966935e64685b7b57d8e4107e933",
            "placeholder": "​",
            "style": "IPY_MODEL_28472a4e5b174a188b5750e81c8a241c",
            "value": " 1648877/1648877 [00:00&lt;00:00, 16507480.27it/s]"
          }
        },
        "8a35150697e246d1907b9260d62b81ac": {
          "model_module": "@jupyter-widgets/base",
          "model_name": "LayoutModel",
          "model_module_version": "1.2.0",
          "state": {
            "_model_module": "@jupyter-widgets/base",
            "_model_module_version": "1.2.0",
            "_model_name": "LayoutModel",
            "_view_count": null,
            "_view_module": "@jupyter-widgets/base",
            "_view_module_version": "1.2.0",
            "_view_name": "LayoutView",
            "align_content": null,
            "align_items": null,
            "align_self": null,
            "border": null,
            "bottom": null,
            "display": null,
            "flex": null,
            "flex_flow": null,
            "grid_area": null,
            "grid_auto_columns": null,
            "grid_auto_flow": null,
            "grid_auto_rows": null,
            "grid_column": null,
            "grid_gap": null,
            "grid_row": null,
            "grid_template_areas": null,
            "grid_template_columns": null,
            "grid_template_rows": null,
            "height": null,
            "justify_content": null,
            "justify_items": null,
            "left": null,
            "margin": null,
            "max_height": null,
            "max_width": null,
            "min_height": null,
            "min_width": null,
            "object_fit": null,
            "object_position": null,
            "order": null,
            "overflow": null,
            "overflow_x": null,
            "overflow_y": null,
            "padding": null,
            "right": null,
            "top": null,
            "visibility": null,
            "width": null
          }
        },
        "78eba5c210c642a5ae54f1c6a814de94": {
          "model_module": "@jupyter-widgets/base",
          "model_name": "LayoutModel",
          "model_module_version": "1.2.0",
          "state": {
            "_model_module": "@jupyter-widgets/base",
            "_model_module_version": "1.2.0",
            "_model_name": "LayoutModel",
            "_view_count": null,
            "_view_module": "@jupyter-widgets/base",
            "_view_module_version": "1.2.0",
            "_view_name": "LayoutView",
            "align_content": null,
            "align_items": null,
            "align_self": null,
            "border": null,
            "bottom": null,
            "display": null,
            "flex": null,
            "flex_flow": null,
            "grid_area": null,
            "grid_auto_columns": null,
            "grid_auto_flow": null,
            "grid_auto_rows": null,
            "grid_column": null,
            "grid_gap": null,
            "grid_row": null,
            "grid_template_areas": null,
            "grid_template_columns": null,
            "grid_template_rows": null,
            "height": null,
            "justify_content": null,
            "justify_items": null,
            "left": null,
            "margin": null,
            "max_height": null,
            "max_width": null,
            "min_height": null,
            "min_width": null,
            "object_fit": null,
            "object_position": null,
            "order": null,
            "overflow": null,
            "overflow_x": null,
            "overflow_y": null,
            "padding": null,
            "right": null,
            "top": null,
            "visibility": null,
            "width": null
          }
        },
        "aeb817a0380640cdb47c3e9f0cd2f5a7": {
          "model_module": "@jupyter-widgets/controls",
          "model_name": "DescriptionStyleModel",
          "model_module_version": "1.5.0",
          "state": {
            "_model_module": "@jupyter-widgets/controls",
            "_model_module_version": "1.5.0",
            "_model_name": "DescriptionStyleModel",
            "_view_count": null,
            "_view_module": "@jupyter-widgets/base",
            "_view_module_version": "1.2.0",
            "_view_name": "StyleView",
            "description_width": ""
          }
        },
        "ea7762be9da148ffa67d7201ad5d76df": {
          "model_module": "@jupyter-widgets/base",
          "model_name": "LayoutModel",
          "model_module_version": "1.2.0",
          "state": {
            "_model_module": "@jupyter-widgets/base",
            "_model_module_version": "1.2.0",
            "_model_name": "LayoutModel",
            "_view_count": null,
            "_view_module": "@jupyter-widgets/base",
            "_view_module_version": "1.2.0",
            "_view_name": "LayoutView",
            "align_content": null,
            "align_items": null,
            "align_self": null,
            "border": null,
            "bottom": null,
            "display": null,
            "flex": null,
            "flex_flow": null,
            "grid_area": null,
            "grid_auto_columns": null,
            "grid_auto_flow": null,
            "grid_auto_rows": null,
            "grid_column": null,
            "grid_gap": null,
            "grid_row": null,
            "grid_template_areas": null,
            "grid_template_columns": null,
            "grid_template_rows": null,
            "height": null,
            "justify_content": null,
            "justify_items": null,
            "left": null,
            "margin": null,
            "max_height": null,
            "max_width": null,
            "min_height": null,
            "min_width": null,
            "object_fit": null,
            "object_position": null,
            "order": null,
            "overflow": null,
            "overflow_x": null,
            "overflow_y": null,
            "padding": null,
            "right": null,
            "top": null,
            "visibility": null,
            "width": null
          }
        },
        "8dba6cb168524d70a31e246d3bf6198d": {
          "model_module": "@jupyter-widgets/controls",
          "model_name": "ProgressStyleModel",
          "model_module_version": "1.5.0",
          "state": {
            "_model_module": "@jupyter-widgets/controls",
            "_model_module_version": "1.5.0",
            "_model_name": "ProgressStyleModel",
            "_view_count": null,
            "_view_module": "@jupyter-widgets/base",
            "_view_module_version": "1.2.0",
            "_view_name": "StyleView",
            "bar_color": null,
            "description_width": ""
          }
        },
        "541c966935e64685b7b57d8e4107e933": {
          "model_module": "@jupyter-widgets/base",
          "model_name": "LayoutModel",
          "model_module_version": "1.2.0",
          "state": {
            "_model_module": "@jupyter-widgets/base",
            "_model_module_version": "1.2.0",
            "_model_name": "LayoutModel",
            "_view_count": null,
            "_view_module": "@jupyter-widgets/base",
            "_view_module_version": "1.2.0",
            "_view_name": "LayoutView",
            "align_content": null,
            "align_items": null,
            "align_self": null,
            "border": null,
            "bottom": null,
            "display": null,
            "flex": null,
            "flex_flow": null,
            "grid_area": null,
            "grid_auto_columns": null,
            "grid_auto_flow": null,
            "grid_auto_rows": null,
            "grid_column": null,
            "grid_gap": null,
            "grid_row": null,
            "grid_template_areas": null,
            "grid_template_columns": null,
            "grid_template_rows": null,
            "height": null,
            "justify_content": null,
            "justify_items": null,
            "left": null,
            "margin": null,
            "max_height": null,
            "max_width": null,
            "min_height": null,
            "min_width": null,
            "object_fit": null,
            "object_position": null,
            "order": null,
            "overflow": null,
            "overflow_x": null,
            "overflow_y": null,
            "padding": null,
            "right": null,
            "top": null,
            "visibility": null,
            "width": null
          }
        },
        "28472a4e5b174a188b5750e81c8a241c": {
          "model_module": "@jupyter-widgets/controls",
          "model_name": "DescriptionStyleModel",
          "model_module_version": "1.5.0",
          "state": {
            "_model_module": "@jupyter-widgets/controls",
            "_model_module_version": "1.5.0",
            "_model_name": "DescriptionStyleModel",
            "_view_count": null,
            "_view_module": "@jupyter-widgets/base",
            "_view_module_version": "1.2.0",
            "_view_name": "StyleView",
            "description_width": ""
          }
        },
        "3d2f75f961674ac78208cc31c1a60ffb": {
          "model_module": "@jupyter-widgets/controls",
          "model_name": "HBoxModel",
          "model_module_version": "1.5.0",
          "state": {
            "_dom_classes": [],
            "_model_module": "@jupyter-widgets/controls",
            "_model_module_version": "1.5.0",
            "_model_name": "HBoxModel",
            "_view_count": null,
            "_view_module": "@jupyter-widgets/controls",
            "_view_module_version": "1.5.0",
            "_view_name": "HBoxView",
            "box_style": "",
            "children": [
              "IPY_MODEL_9c6bb78f219b4271b2a8f0a5600d6f86",
              "IPY_MODEL_97a77ffb2a4c45e1af5cc838b06ee004",
              "IPY_MODEL_c6cc8526ac4a4eefa99fe78d328e43a2"
            ],
            "layout": "IPY_MODEL_4500b1ac665748c995dcdeba374dee8a"
          }
        },
        "9c6bb78f219b4271b2a8f0a5600d6f86": {
          "model_module": "@jupyter-widgets/controls",
          "model_name": "HTMLModel",
          "model_module_version": "1.5.0",
          "state": {
            "_dom_classes": [],
            "_model_module": "@jupyter-widgets/controls",
            "_model_module_version": "1.5.0",
            "_model_name": "HTMLModel",
            "_view_count": null,
            "_view_module": "@jupyter-widgets/controls",
            "_view_module_version": "1.5.0",
            "_view_name": "HTMLView",
            "description": "",
            "description_tooltip": null,
            "layout": "IPY_MODEL_9058d587ca2b46bb819e0d8abb2c199f",
            "placeholder": "​",
            "style": "IPY_MODEL_50e59cc66af2458ca2e34cfa238d1898",
            "value": "100%"
          }
        },
        "97a77ffb2a4c45e1af5cc838b06ee004": {
          "model_module": "@jupyter-widgets/controls",
          "model_name": "FloatProgressModel",
          "model_module_version": "1.5.0",
          "state": {
            "_dom_classes": [],
            "_model_module": "@jupyter-widgets/controls",
            "_model_module_version": "1.5.0",
            "_model_name": "FloatProgressModel",
            "_view_count": null,
            "_view_module": "@jupyter-widgets/controls",
            "_view_module_version": "1.5.0",
            "_view_name": "ProgressView",
            "bar_style": "success",
            "description": "",
            "description_tooltip": null,
            "layout": "IPY_MODEL_c0a1a110c8714921916f62f6287b9452",
            "max": 4542,
            "min": 0,
            "orientation": "horizontal",
            "style": "IPY_MODEL_f5813230b7ba4dc3a7354155ab1edab6",
            "value": 4542
          }
        },
        "c6cc8526ac4a4eefa99fe78d328e43a2": {
          "model_module": "@jupyter-widgets/controls",
          "model_name": "HTMLModel",
          "model_module_version": "1.5.0",
          "state": {
            "_dom_classes": [],
            "_model_module": "@jupyter-widgets/controls",
            "_model_module_version": "1.5.0",
            "_model_name": "HTMLModel",
            "_view_count": null,
            "_view_module": "@jupyter-widgets/controls",
            "_view_module_version": "1.5.0",
            "_view_name": "HTMLView",
            "description": "",
            "description_tooltip": null,
            "layout": "IPY_MODEL_7234dd3d67d347de8708baf113d96352",
            "placeholder": "​",
            "style": "IPY_MODEL_ff2fe58150e44df08aa0f6f26d9219e2",
            "value": " 4542/4542 [00:00&lt;00:00, 29991.24it/s]"
          }
        },
        "4500b1ac665748c995dcdeba374dee8a": {
          "model_module": "@jupyter-widgets/base",
          "model_name": "LayoutModel",
          "model_module_version": "1.2.0",
          "state": {
            "_model_module": "@jupyter-widgets/base",
            "_model_module_version": "1.2.0",
            "_model_name": "LayoutModel",
            "_view_count": null,
            "_view_module": "@jupyter-widgets/base",
            "_view_module_version": "1.2.0",
            "_view_name": "LayoutView",
            "align_content": null,
            "align_items": null,
            "align_self": null,
            "border": null,
            "bottom": null,
            "display": null,
            "flex": null,
            "flex_flow": null,
            "grid_area": null,
            "grid_auto_columns": null,
            "grid_auto_flow": null,
            "grid_auto_rows": null,
            "grid_column": null,
            "grid_gap": null,
            "grid_row": null,
            "grid_template_areas": null,
            "grid_template_columns": null,
            "grid_template_rows": null,
            "height": null,
            "justify_content": null,
            "justify_items": null,
            "left": null,
            "margin": null,
            "max_height": null,
            "max_width": null,
            "min_height": null,
            "min_width": null,
            "object_fit": null,
            "object_position": null,
            "order": null,
            "overflow": null,
            "overflow_x": null,
            "overflow_y": null,
            "padding": null,
            "right": null,
            "top": null,
            "visibility": null,
            "width": null
          }
        },
        "9058d587ca2b46bb819e0d8abb2c199f": {
          "model_module": "@jupyter-widgets/base",
          "model_name": "LayoutModel",
          "model_module_version": "1.2.0",
          "state": {
            "_model_module": "@jupyter-widgets/base",
            "_model_module_version": "1.2.0",
            "_model_name": "LayoutModel",
            "_view_count": null,
            "_view_module": "@jupyter-widgets/base",
            "_view_module_version": "1.2.0",
            "_view_name": "LayoutView",
            "align_content": null,
            "align_items": null,
            "align_self": null,
            "border": null,
            "bottom": null,
            "display": null,
            "flex": null,
            "flex_flow": null,
            "grid_area": null,
            "grid_auto_columns": null,
            "grid_auto_flow": null,
            "grid_auto_rows": null,
            "grid_column": null,
            "grid_gap": null,
            "grid_row": null,
            "grid_template_areas": null,
            "grid_template_columns": null,
            "grid_template_rows": null,
            "height": null,
            "justify_content": null,
            "justify_items": null,
            "left": null,
            "margin": null,
            "max_height": null,
            "max_width": null,
            "min_height": null,
            "min_width": null,
            "object_fit": null,
            "object_position": null,
            "order": null,
            "overflow": null,
            "overflow_x": null,
            "overflow_y": null,
            "padding": null,
            "right": null,
            "top": null,
            "visibility": null,
            "width": null
          }
        },
        "50e59cc66af2458ca2e34cfa238d1898": {
          "model_module": "@jupyter-widgets/controls",
          "model_name": "DescriptionStyleModel",
          "model_module_version": "1.5.0",
          "state": {
            "_model_module": "@jupyter-widgets/controls",
            "_model_module_version": "1.5.0",
            "_model_name": "DescriptionStyleModel",
            "_view_count": null,
            "_view_module": "@jupyter-widgets/base",
            "_view_module_version": "1.2.0",
            "_view_name": "StyleView",
            "description_width": ""
          }
        },
        "c0a1a110c8714921916f62f6287b9452": {
          "model_module": "@jupyter-widgets/base",
          "model_name": "LayoutModel",
          "model_module_version": "1.2.0",
          "state": {
            "_model_module": "@jupyter-widgets/base",
            "_model_module_version": "1.2.0",
            "_model_name": "LayoutModel",
            "_view_count": null,
            "_view_module": "@jupyter-widgets/base",
            "_view_module_version": "1.2.0",
            "_view_name": "LayoutView",
            "align_content": null,
            "align_items": null,
            "align_self": null,
            "border": null,
            "bottom": null,
            "display": null,
            "flex": null,
            "flex_flow": null,
            "grid_area": null,
            "grid_auto_columns": null,
            "grid_auto_flow": null,
            "grid_auto_rows": null,
            "grid_column": null,
            "grid_gap": null,
            "grid_row": null,
            "grid_template_areas": null,
            "grid_template_columns": null,
            "grid_template_rows": null,
            "height": null,
            "justify_content": null,
            "justify_items": null,
            "left": null,
            "margin": null,
            "max_height": null,
            "max_width": null,
            "min_height": null,
            "min_width": null,
            "object_fit": null,
            "object_position": null,
            "order": null,
            "overflow": null,
            "overflow_x": null,
            "overflow_y": null,
            "padding": null,
            "right": null,
            "top": null,
            "visibility": null,
            "width": null
          }
        },
        "f5813230b7ba4dc3a7354155ab1edab6": {
          "model_module": "@jupyter-widgets/controls",
          "model_name": "ProgressStyleModel",
          "model_module_version": "1.5.0",
          "state": {
            "_model_module": "@jupyter-widgets/controls",
            "_model_module_version": "1.5.0",
            "_model_name": "ProgressStyleModel",
            "_view_count": null,
            "_view_module": "@jupyter-widgets/base",
            "_view_module_version": "1.2.0",
            "_view_name": "StyleView",
            "bar_color": null,
            "description_width": ""
          }
        },
        "7234dd3d67d347de8708baf113d96352": {
          "model_module": "@jupyter-widgets/base",
          "model_name": "LayoutModel",
          "model_module_version": "1.2.0",
          "state": {
            "_model_module": "@jupyter-widgets/base",
            "_model_module_version": "1.2.0",
            "_model_name": "LayoutModel",
            "_view_count": null,
            "_view_module": "@jupyter-widgets/base",
            "_view_module_version": "1.2.0",
            "_view_name": "LayoutView",
            "align_content": null,
            "align_items": null,
            "align_self": null,
            "border": null,
            "bottom": null,
            "display": null,
            "flex": null,
            "flex_flow": null,
            "grid_area": null,
            "grid_auto_columns": null,
            "grid_auto_flow": null,
            "grid_auto_rows": null,
            "grid_column": null,
            "grid_gap": null,
            "grid_row": null,
            "grid_template_areas": null,
            "grid_template_columns": null,
            "grid_template_rows": null,
            "height": null,
            "justify_content": null,
            "justify_items": null,
            "left": null,
            "margin": null,
            "max_height": null,
            "max_width": null,
            "min_height": null,
            "min_width": null,
            "object_fit": null,
            "object_position": null,
            "order": null,
            "overflow": null,
            "overflow_x": null,
            "overflow_y": null,
            "padding": null,
            "right": null,
            "top": null,
            "visibility": null,
            "width": null
          }
        },
        "ff2fe58150e44df08aa0f6f26d9219e2": {
          "model_module": "@jupyter-widgets/controls",
          "model_name": "DescriptionStyleModel",
          "model_module_version": "1.5.0",
          "state": {
            "_model_module": "@jupyter-widgets/controls",
            "_model_module_version": "1.5.0",
            "_model_name": "DescriptionStyleModel",
            "_view_count": null,
            "_view_module": "@jupyter-widgets/base",
            "_view_module_version": "1.2.0",
            "_view_name": "StyleView",
            "description_width": ""
          }
        }
      }
    }
  },
  "cells": [
    {
      "cell_type": "markdown",
      "metadata": {
        "id": "C8IXCAdkXnI5"
      },
      "source": [
        "# Dataset preprocessing and learning curves\n",
        "* Objectives:\n",
        " * Observe impact of dataset normalization\n",
        " * Use learning curves to tune hyperparameters \n",
        "\n",
        "## First things first\n",
        "* Spend 3-5 minutes [here](https://lossfunctions.tumblr.com/)\n",
        "* Share your favorite!\n",
        "\n",
        "## Teams\n",
        "* Team 1: Mathieu-Savvas Dimitriades, Jonathan Palafoutas, Miles Simpkins, Sneha Ramshanker\n",
        "* Team 2: Victor Geadah, Elie Svoll, Promise Ekpo, May Mei, Arthur Yang\n",
        "* Team 3: Manuel Kreutle, Felix O'Mahony, Daniel Melesse, Navreeta Singh\n",
        "* Team 4: Rafael Pastrana Jimenez, Jose Ayala Garcia, An-Ya Olson, Kathryn Wantlin, Emre Onal\n",
        "* Team 5: Xiaohan Li, Sarah Witzman, Karla Soto Cuevas, Sophie Chen, Liam Parker\n",
        "\n",
        "## SUBMISSIONS\n",
        "* Please save a copy of your lab, adding a cell with all first and last names of your group members, and upload one submission of your group's work to [this folder](https://drive.google.com/drive/folders/17kQRtbVXbe6SL4Pmbe87BETs8EEYUXjk)"
      ]
    },
    {
      "cell_type": "markdown",
      "metadata": {
        "id": "wegFqVhRX1bo"
      },
      "source": [
        "## Dataset preprocessing\n",
        "### Without normalization (sort of)\n",
        "* Here you'll train an MLP on the MNIST dataset without normalizing from training set statistics. \n",
        "* The datset is transformed to a Tensor with values between zero and one. "
      ]
    },
    {
      "cell_type": "code",
      "metadata": {
        "id": "2tMk1UCmeNn7",
        "colab": {
          "base_uri": "https://localhost:8080/"
        },
        "outputId": "7c67c6f8-e7f8-4125-eaa5-e162cc230251"
      },
      "source": [
        "!pip install torch\n",
        "\n",
        "import torch\n",
        "import torchvision"
      ],
      "execution_count": null,
      "outputs": [
        {
          "output_type": "stream",
          "name": "stdout",
          "text": [
            "Looking in indexes: https://pypi.org/simple, https://us-python.pkg.dev/colab-wheels/public/simple/\n",
            "Requirement already satisfied: torch in /usr/local/lib/python3.8/dist-packages (1.13.1+cu116)\n",
            "Requirement already satisfied: typing-extensions in /usr/local/lib/python3.8/dist-packages (from torch) (4.4.0)\n"
          ]
        }
      ]
    },
    {
      "cell_type": "code",
      "metadata": {
        "id": "PSD-wUE9ecET"
      },
      "source": [
        "# Question 1: What is the default weight initialization?\n",
        "# YOUR ANSWER HERE\n",
        "\n",
        "class MLP(torch.nn.Module):\n",
        "  def __init__(self, indim=784, outdim=10, hdim=100):\n",
        "    super(MLP, self).__init__()\n",
        "    # build an mlp with two hidden layers\n",
        "    hidden1 = torch.nn.Linear(indim, hdim)\n",
        "    hidden2 = torch.nn.Linear(hdim, hdim)\n",
        "    output = torch.nn.Linear(hdim, outdim)\n",
        "    self.indim = indim\n",
        "    self.model = torch.nn.Sequential(hidden1, torch.nn.ReLU(), hidden2, torch.nn.ReLU(), output)\n",
        "    \n",
        "  def forward(self, x):\n",
        "    return self.model(x.reshape(-1, self.indim))"
      ],
      "execution_count": null,
      "outputs": []
    },
    {
      "cell_type": "code",
      "metadata": {
        "id": "YAoFV1fkgASA"
      },
      "source": [
        "def compute_accuracy(net, dataloader):\n",
        "  # don't update the weights\n",
        "  with torch.no_grad():\n",
        "      correct = 0\n",
        "      total = 0\n",
        "      for batch in dataloader:\n",
        "            images, labels = batch\n",
        "            outputs = net(images)\n",
        "            _, predicted = torch.max(outputs.data, 1)\n",
        "            total += labels.size(0)\n",
        "            correct += (predicted == labels).sum().item()\n",
        "  return 100 * correct/total"
      ],
      "execution_count": null,
      "outputs": []
    },
    {
      "cell_type": "code",
      "metadata": {
        "id": "4wqkYjhPlpyp"
      },
      "source": [
        "def train_eval_loop(optimizer, trainloader, testloader, mlp, loss_function, num_epochs):\n",
        "\n",
        "  training_loss = []\n",
        "  test_accuracy = []\n",
        "  train_accuracy = []\n",
        "\n",
        "  # training loop\n",
        "  for i in range(num_epochs):\n",
        "    for idx, batch in enumerate(trainloader):\n",
        "      data, label = batch\n",
        "      prediction = mlp(data)\n",
        "      loss = loss_function(prediction, label)\n",
        "\n",
        "      optimizer.zero_grad()\n",
        "      loss.backward()\n",
        "      optimizer.step()\n",
        "\n",
        "      if idx % save_every == 0:\n",
        "        training_loss.append(loss.item())\n",
        "\n",
        "    if i % test_every == 0:\n",
        "        test_accuracy.append(compute_accuracy(mlp, testloader))\n",
        "        train_accuracy.append(compute_accuracy(mlp, trainloader))\n",
        "\n",
        "  return training_loss, test_accuracy, train_accuracy"
      ],
      "execution_count": null,
      "outputs": []
    },
    {
      "cell_type": "code",
      "metadata": {
        "id": "VUG-Ed7KqwK1"
      },
      "source": [
        "root_dir = './'\n",
        "\n",
        "# hyperparameters\n",
        "num_epochs = 10\n",
        "lr = 1e-1\n",
        "batch_size = 32\n",
        "num_classes = 10\n",
        "save_every = 100\n",
        "test_every = 2"
      ],
      "execution_count": null,
      "outputs": []
    },
    {
      "cell_type": "code",
      "metadata": {
        "id": "QGejusxrXmZf",
        "colab": {
          "base_uri": "https://localhost:8080/",
          "height": 417,
          "referenced_widgets": [
            "10f16a0903784119aeb58d1f7a1ffb47",
            "52b0c68d967743bfa262a64ac3c7fc30",
            "ed75e01665cf4dc0b214c480e2006529",
            "971d93ad6d53429ba6e2f17dd01b7939",
            "2967a719600e4da49d3dce0c6cf5c28a",
            "0d3cdd619eac41d0881d31bf219c7a62",
            "ca16dac8763f48cc9e93a96d45a75d0f",
            "7e34f1ef6ff944c99134571e0e75b83c",
            "f61cd1e1e1af422fad1ae55943c8ac87",
            "8c4af138cf0d406b8e38a988546d41c3",
            "85540c8d704c4ea8bff7aa2993c95cfe",
            "25c8ec4237c148aca29962a8161eef5a",
            "a0594ce0a08e4e65abd9133f041b0a59",
            "24cb732471294fd1af975b0cd198b8e8",
            "ca6e03ea25144391b4e173721c9702a7",
            "a620f3fbb995442eaaba0c75f0c62588",
            "db6aa08c16ed4707b619c18e36b709ab",
            "9fc10ae80da24a3eafb89bc6afdc7218",
            "fd0c6c024b944deeb34e02c289d6ede9",
            "a0ea5001dd324fa5916e4b99fbce5fda",
            "ce66dd04b6d54dd8890f31f735745e76",
            "8bcd6cacd65643529d2bac509e582d49",
            "bc5cab010699450e8d14588098f1245f",
            "bd0ff8d0d9c745068a144ee5f6831e6c",
            "0fcc28330d2841899ba6018350e5450c",
            "9205fe87eaa345f68ff626c66ec9d647",
            "8a35150697e246d1907b9260d62b81ac",
            "78eba5c210c642a5ae54f1c6a814de94",
            "aeb817a0380640cdb47c3e9f0cd2f5a7",
            "ea7762be9da148ffa67d7201ad5d76df",
            "8dba6cb168524d70a31e246d3bf6198d",
            "541c966935e64685b7b57d8e4107e933",
            "28472a4e5b174a188b5750e81c8a241c",
            "3d2f75f961674ac78208cc31c1a60ffb",
            "9c6bb78f219b4271b2a8f0a5600d6f86",
            "97a77ffb2a4c45e1af5cc838b06ee004",
            "c6cc8526ac4a4eefa99fe78d328e43a2",
            "4500b1ac665748c995dcdeba374dee8a",
            "9058d587ca2b46bb819e0d8abb2c199f",
            "50e59cc66af2458ca2e34cfa238d1898",
            "c0a1a110c8714921916f62f6287b9452",
            "f5813230b7ba4dc3a7354155ab1edab6",
            "7234dd3d67d347de8708baf113d96352",
            "ff2fe58150e44df08aa0f6f26d9219e2"
          ]
        },
        "outputId": "d39c417d-ab4c-42c1-ad83-d01d28b5b533"
      },
      "source": [
        "import torchvision.transforms as transforms\n",
        "\n",
        "# get the dataset\n",
        "traindata = torchvision.datasets.MNIST(root=root_dir, train=True, download=True)\n",
        "# testset = torchvision.datasets.MNIST(root=root_dir, train=False, download=True)\n",
        "\n",
        "# Instead of testing on the testset, we'll train and test on the subsets of the training set\n",
        "# https://pytorch.org/docs/stable/data.html#torch.utils.data.random_split\n",
        "\n",
        "# Question 2: What type is an element of the trainset\n",
        "# Start with type(traindata[0]) but go deeper\n",
        "# YOUR ANSWER HERE\n",
        "\n",
        "# Question 3: How many examples are in the training set\n",
        "# YOUR ANSWER HERE\n",
        "num_examples = 60000\n",
        "num_train = 40000\n",
        "num_val = 20000\n",
        "\n",
        "trainset, testset = torch.utils.data.random_split(traindata, [num_train, num_val], generator=torch.Generator().manual_seed(42))"
      ],
      "execution_count": null,
      "outputs": [
        {
          "output_type": "stream",
          "name": "stdout",
          "text": [
            "Downloading http://yann.lecun.com/exdb/mnist/train-images-idx3-ubyte.gz\n",
            "Downloading http://yann.lecun.com/exdb/mnist/train-images-idx3-ubyte.gz to ./MNIST/raw/train-images-idx3-ubyte.gz\n"
          ]
        },
        {
          "output_type": "display_data",
          "data": {
            "text/plain": [
              "  0%|          | 0/9912422 [00:00<?, ?it/s]"
            ],
            "application/vnd.jupyter.widget-view+json": {
              "version_major": 2,
              "version_minor": 0,
              "model_id": "10f16a0903784119aeb58d1f7a1ffb47"
            }
          },
          "metadata": {}
        },
        {
          "output_type": "stream",
          "name": "stdout",
          "text": [
            "Extracting ./MNIST/raw/train-images-idx3-ubyte.gz to ./MNIST/raw\n",
            "\n",
            "Downloading http://yann.lecun.com/exdb/mnist/train-labels-idx1-ubyte.gz\n",
            "Downloading http://yann.lecun.com/exdb/mnist/train-labels-idx1-ubyte.gz to ./MNIST/raw/train-labels-idx1-ubyte.gz\n"
          ]
        },
        {
          "output_type": "display_data",
          "data": {
            "text/plain": [
              "  0%|          | 0/28881 [00:00<?, ?it/s]"
            ],
            "application/vnd.jupyter.widget-view+json": {
              "version_major": 2,
              "version_minor": 0,
              "model_id": "25c8ec4237c148aca29962a8161eef5a"
            }
          },
          "metadata": {}
        },
        {
          "output_type": "stream",
          "name": "stdout",
          "text": [
            "Extracting ./MNIST/raw/train-labels-idx1-ubyte.gz to ./MNIST/raw\n",
            "\n",
            "Downloading http://yann.lecun.com/exdb/mnist/t10k-images-idx3-ubyte.gz\n",
            "Downloading http://yann.lecun.com/exdb/mnist/t10k-images-idx3-ubyte.gz to ./MNIST/raw/t10k-images-idx3-ubyte.gz\n"
          ]
        },
        {
          "output_type": "display_data",
          "data": {
            "text/plain": [
              "  0%|          | 0/1648877 [00:00<?, ?it/s]"
            ],
            "application/vnd.jupyter.widget-view+json": {
              "version_major": 2,
              "version_minor": 0,
              "model_id": "bc5cab010699450e8d14588098f1245f"
            }
          },
          "metadata": {}
        },
        {
          "output_type": "stream",
          "name": "stdout",
          "text": [
            "Extracting ./MNIST/raw/t10k-images-idx3-ubyte.gz to ./MNIST/raw\n",
            "\n",
            "Downloading http://yann.lecun.com/exdb/mnist/t10k-labels-idx1-ubyte.gz\n",
            "Downloading http://yann.lecun.com/exdb/mnist/t10k-labels-idx1-ubyte.gz to ./MNIST/raw/t10k-labels-idx1-ubyte.gz\n"
          ]
        },
        {
          "output_type": "display_data",
          "data": {
            "text/plain": [
              "  0%|          | 0/4542 [00:00<?, ?it/s]"
            ],
            "application/vnd.jupyter.widget-view+json": {
              "version_major": 2,
              "version_minor": 0,
              "model_id": "3d2f75f961674ac78208cc31c1a60ffb"
            }
          },
          "metadata": {}
        },
        {
          "output_type": "stream",
          "name": "stdout",
          "text": [
            "Extracting ./MNIST/raw/t10k-labels-idx1-ubyte.gz to ./MNIST/raw\n",
            "\n"
          ]
        }
      ]
    },
    {
      "cell_type": "code",
      "metadata": {
        "id": "BQUuXBDxrMFV"
      },
      "source": [
        "import numpy as np\n",
        "\n",
        "# transform data to a tensor and build dataloader \n",
        "transform = transforms.Compose([ transforms.Lambda(lambda img: torch.Tensor(np.array(img))) ])\n",
        "\n",
        "trainset.dataset.transform = transform\n",
        "testset.dataset.transform = transform\n",
        "\n",
        "trainloader = torch.utils.data.DataLoader(trainset, batch_size=batch_size, shuffle=True)\n",
        "testloader = torch.utils.data.DataLoader(testset, batch_size=batch_size, shuffle=True)"
      ],
      "execution_count": null,
      "outputs": []
    },
    {
      "cell_type": "code",
      "metadata": {
        "id": "3lTcbCBkrCsL"
      },
      "source": [
        "# model, optimizer, and loss function\n",
        "mlp = MLP()\n",
        "optimizer = torch.optim.Adam(mlp.parameters())\n",
        "loss_function = torch.nn.CrossEntropyLoss()\n",
        "\n",
        "unnormalized_training_loss, unnormalized_test_accuracy, unnormalized_train_accuracy = train_eval_loop(optimizer, trainloader, testloader, mlp, loss_function, num_epochs)"
      ],
      "execution_count": null,
      "outputs": []
    },
    {
      "cell_type": "code",
      "metadata": {
        "id": "tbrcQVGvZuCk",
        "colab": {
          "base_uri": "https://localhost:8080/",
          "height": 402
        },
        "outputId": "a785c7ea-75fd-482b-825e-09b8c57915df"
      },
      "source": [
        "import matplotlib.pylab as plt\n",
        "\n",
        "unnormalized_training_loss_array = np.array(unnormalized_training_loss)\n",
        "\n",
        "plt.figure(figsize=[20, 6])\n",
        "plt.subplot(131)\n",
        "plt.plot(unnormalized_training_loss_array, 'bo')\n",
        "plt.title('training error')\n",
        "plt.ylabel('cross entropy loss')\n",
        "plt.xlabel('iteration / {}'.format(save_every))\n",
        "\n",
        "plt.subplot(132)\n",
        "plt.plot(np.log(unnormalized_training_loss_array), 'bo')\n",
        "plt.title('log training error')\n",
        "plt.ylabel('log cross entropy loss')\n",
        "plt.xlabel('iteration / {}'.format(save_every))\n",
        "\n",
        "plt.subplot(133)\n",
        "plt.plot(unnormalized_test_accuracy, '-co')\n",
        "plt.plot(unnormalized_train_accuracy, '-bo')\n",
        "plt.title('train test accuracy')\n",
        "plt.ylabel('accuracy')\n",
        "plt.xlabel('epoch / {}'.format(test_every))\n",
        "\n",
        "# Comparing training and validation accuracy can give a sense of the generalization power of the network\n",
        "# https://cs231n.github.io/neural-networks-3/#accuracy\n",
        "# Question 4: Has training converged (justify your response)? If not, what could help?\n",
        "# YOUR ANSWER HERE"
      ],
      "execution_count": null,
      "outputs": [
        {
          "output_type": "execute_result",
          "data": {
            "text/plain": [
              "Text(0.5, 0, 'epoch / 2')"
            ]
          },
          "metadata": {},
          "execution_count": 13
        },
        {
          "output_type": "display_data",
          "data": {
            "text/plain": [
              "<Figure size 1440x432 with 3 Axes>"
            ],
            "image/png": "[encoded data removed]"
          },
          "metadata": {
            "needs_background": "light"
          }
        }
      ]
    },
    {
      "cell_type": "markdown",
      "metadata": {
        "id": "K4qsfsvHaU77"
      },
      "source": [
        "### With normalization\n",
        "* [Here](https://cs231n.github.io/neural-networks-2/#datapre) are some notes on dataset preprocessing including: normalization, PCA, and whitening. Although the last two are rarely used in deep learning its still nice to know what they are and why they might be.\n",
        "* Before training, compute the statistics of the __training set__ and use those numbers to normalize both the training and testing set"
      ]
    },
    {
      "cell_type": "code",
      "metadata": {
        "id": "IkYPWgaAdyBD"
      },
      "source": [
        "images = np.asarray([ np.array(trainset.dataset[i][0]) for i in range(num_examples) ], dtype=np.float64) # num_examples x height x width"
      ],
      "execution_count": null,
      "outputs": []
    },
    {
      "cell_type": "code",
      "metadata": {
        "id": "0rT15iapjUV9",
        "colab": {
          "base_uri": "https://localhost:8080/"
        },
        "outputId": "d248a0f6-c204-4950-c836-8ae993189b20"
      },
      "source": [
        "# Some additional information on preprocessing data is provided in scikit-learn\n",
        "# https://scikit-learn.org/stable/modules/preprocessing.html#standardization-or-mean-removal-and-variance-scaling\n",
        "\n",
        "# In this lab you'll do per channel mean subtraction and scaling\n",
        "# as noted in https://cs231n.github.io/neural-networks-2/#datapre\n",
        "# this approach is fine for images since each pixel isn't usually considered a different kind of feature\n",
        "\n",
        "# compute image statistics\n",
        "# mean over the 60000 images for each pixel \n",
        "image_mean = np.mean(images)\n",
        "mean_centered_images = images - np.mean(images)\n",
        "image_std = np.std(images)\n",
        "normalized_images = (images - np.mean(images)) / np.std(images)\n",
        "\n",
        "print('The mean of the images in the dataset is {image_mean}, with shape {image_mean_shape}'.format(image_mean=image_mean, image_mean_shape=image_mean.shape)) # scalar valued\n",
        "print('The std of the mean centered images is {image_std}, with shape {image_std_shape}'.format(image_std=image_std, image_std_shape=image_std.shape)) # scalar valued\n",
        "print('Sanity Check: The mean of the mean centered images is {mean_centered_images_mean}'.format(mean_centered_images_mean=np.mean(mean_centered_images)))\n",
        "print('Sanity Check: The mean centered images have shape {mean_centered_images_mean_shape}'.format(mean_centered_images_mean_shape=mean_centered_images.shape))\n",
        "print('Sanity Check: The mean of the normalized images is {normalized_images_mean}'.format(normalized_images_mean=np.mean(normalized_images)))\n",
        "print('Sanity Check: The std of the normalized images is {normalized_images_std}'.format(normalized_images_std=np.std(normalized_images)))\n",
        "print('Sanity Check: The shape of the normalized images is {normalized_images_shape}'.format(normalized_images_shape=normalized_images.shape)) # num_examples x height x width"
      ],
      "execution_count": null,
      "outputs": [
        {
          "output_type": "stream",
          "name": "stdout",
          "text": [
            "The mean of the images in the dataset is 33.318421449829934, with shape ()\n",
            "The std of the mean centered images is 78.56748998339798, with shape ()\n",
            "Sanity Check: The mean of the mean centered images is 9.893771063189535e-15\n",
            "Sanity Check: The mean centered images have shape (60000, 28, 28)\n",
            "Sanity Check: The mean of the normalized images is -3.064638490070051e-17\n",
            "Sanity Check: The std of the normalized images is 0.9999999999999998\n",
            "Sanity Check: The shape of the normalized images is (60000, 28, 28)\n"
          ]
        }
      ]
    },
    {
      "cell_type": "code",
      "metadata": {
        "id": "_sP2XDXfdoJl"
      },
      "source": [
        "# Write the lambda function to normalize images\n",
        "transform=transforms.Compose([\n",
        "        transforms.Lambda(lambda img: torch.Tensor((np.array(img) - np.mean(np.array(img))) / np.std(np.array(img))))\n",
        "        ])\n",
        "\n",
        "trainset.dataset.transform = transform\n",
        "testset.dataset.transform = transform\n",
        "\n",
        "# build dataloader\n",
        "trainloader = torch.utils.data.DataLoader(trainset, batch_size=batch_size, shuffle=True)\n",
        "testloader = torch.utils.data.DataLoader(testset, batch_size=batch_size, shuffle=True)"
      ],
      "execution_count": null,
      "outputs": []
    },
    {
      "cell_type": "code",
      "metadata": {
        "id": "PuFFF9QBj_-Q"
      },
      "source": [
        "# model, optimizer, and loss function\n",
        "mlp = MLP()\n",
        "optimizer = torch.optim.Adam(mlp.parameters())\n",
        "loss_function = torch.nn.CrossEntropyLoss()\n",
        "\n",
        "normalized_training_loss, normalized_test_accuracy, normalized_train_accuracy = train_eval_loop(optimizer, trainloader, testloader, mlp, loss_function, num_epochs)"
      ],
      "execution_count": null,
      "outputs": []
    },
    {
      "cell_type": "code",
      "metadata": {
        "id": "13SUufUTkSil",
        "colab": {
          "base_uri": "https://localhost:8080/",
          "height": 402
        },
        "outputId": "6aa635fe-becf-4bf7-e77e-86eb62224d39"
      },
      "source": [
        "normalized_training_loss_array = np.array(normalized_training_loss)\n",
        "\n",
        "plt.figure(figsize=[20, 6])\n",
        "plt.subplot(131)\n",
        "plt.plot(unnormalized_training_loss_array, 'bo')\n",
        "plt.plot(normalized_training_loss_array, 'ro')\n",
        "plt.title('training error')\n",
        "plt.ylabel('cross entropy loss')\n",
        "plt.xlabel('iteration / {}'.format(save_every))\n",
        "\n",
        "plt.subplot(132)\n",
        "plt.plot(np.log(unnormalized_training_loss_array), 'bo')\n",
        "plt.plot(np.log(normalized_training_loss_array), 'ro')\n",
        "plt.title('log training error')\n",
        "plt.ylabel('log cross entropy loss')\n",
        "plt.xlabel('iteration / {}'.format(save_every))\n",
        "\n",
        "plt.subplot(133)\n",
        "plt.plot(unnormalized_test_accuracy, '-bo')\n",
        "plt.plot(unnormalized_train_accuracy, '-ro')\n",
        "plt.plot(normalized_test_accuracy, '-co')\n",
        "plt.plot(normalized_train_accuracy, '-mo')\n",
        "plt.title('train test accuracy')\n",
        "plt.ylabel('accuracy')\n",
        "plt.xlabel('epoch / {}'.format(test_every))\n",
        "\n",
        "# Question 5: Why could normalizing (or standardizing) the data improve training?\n",
        "# http://www.faqs.org/faqs/ai-faq/neural-nets/part2/\n",
        "# YOUR ANSWER HERE Normalizing controls the spread of the data so it standardizes the training input. The similarity of the training data makes it easier to train. "
      ],
      "execution_count": null,
      "outputs": [
        {
          "output_type": "execute_result",
          "data": {
            "text/plain": [
              "Text(0.5, 0, 'epoch / 2')"
            ]
          },
          "metadata": {},
          "execution_count": 24
        },
        {
          "output_type": "display_data",
          "data": {
            "text/plain": [
              "<Figure size 1440x432 with 3 Axes>"
            ],
            "image/png": "[encoded data removed]"
          },
          "metadata": {
            "needs_background": "light"
          }
        }
      ]
    },
    {
      "cell_type": "code",
      "metadata": {
        "id": "JX0zklBilg-D"
      },
      "source": [],
      "execution_count": null,
      "outputs": []
    }
  ]
}